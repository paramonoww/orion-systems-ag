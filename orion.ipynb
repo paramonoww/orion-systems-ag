{
 "cells": [
  {
   "cell_type": "code",
   "execution_count": 1,
   "id": "0e84175b",
   "metadata": {},
   "outputs": [],
   "source": [
    "# importing needed libraries\n",
    "\n",
    "import pandas as pd\n",
    "import re"
   ]
  },
  {
   "cell_type": "markdown",
   "id": "721ca999",
   "metadata": {},
   "source": [
    "### 1. Making `.log` files a nicely looking dataframes."
   ]
  },
  {
   "cell_type": "markdown",
   "id": "df2b0aad",
   "metadata": {},
   "source": [
    "***Getting logs into list at first.***"
   ]
  },
  {
   "cell_type": "code",
   "execution_count": 2,
   "id": "927c365f",
   "metadata": {},
   "outputs": [],
   "source": [
    "exec_logs = []\n",
    "f1 = open('exec_logs.log')\n",
    "\n",
    "for element in f1:\n",
    "    exec_logs.append(element)"
   ]
  },
  {
   "cell_type": "code",
   "execution_count": 3,
   "id": "5606955e",
   "metadata": {},
   "outputs": [],
   "source": [
    "market_logs = []\n",
    "f2 = open('market_logs.log')\n",
    "\n",
    "for element in f2:\n",
    "    market_logs.append(element)"
   ]
  },
  {
   "cell_type": "code",
   "execution_count": 4,
   "id": "3bdbf4b8",
   "metadata": {},
   "outputs": [
    {
     "name": "stdout",
     "output_type": "stream",
     "text": [
      "Length of exec_logs: 8682\n",
      "Length of market_logs: 397802\n"
     ]
    }
   ],
   "source": [
    "# checking if lens are ok\n",
    "\n",
    "print(f'Length of exec_logs: {len(exec_logs)}')\n",
    "print(f'Length of market_logs: {len(market_logs)}')"
   ]
  },
  {
   "cell_type": "markdown",
   "id": "340ccd79",
   "metadata": {},
   "source": [
    "#### 1.1. Preprocessing exec_logs."
   ]
  },
  {
   "cell_type": "code",
   "execution_count": 5,
   "id": "0b4cacf3",
   "metadata": {},
   "outputs": [],
   "source": [
    "# starting creating a dataframe\n",
    "\n",
    "data_exec = pd.DataFrame([element.split(', ') for element in exec_logs])\n",
    "data_exec.columns = ['traded_at', 'side', 'price', 'traded_volume', 'volume_left', 'delta_execsend']"
   ]
  },
  {
   "cell_type": "code",
   "execution_count": 6,
   "id": "d12314f4",
   "metadata": {
    "scrolled": true
   },
   "outputs": [
    {
     "data": {
      "text/html": [
       "<div>\n",
       "<style scoped>\n",
       "    .dataframe tbody tr th:only-of-type {\n",
       "        vertical-align: middle;\n",
       "    }\n",
       "\n",
       "    .dataframe tbody tr th {\n",
       "        vertical-align: top;\n",
       "    }\n",
       "\n",
       "    .dataframe thead th {\n",
       "        text-align: right;\n",
       "    }\n",
       "</style>\n",
       "<table border=\"1\" class=\"dataframe\">\n",
       "  <thead>\n",
       "    <tr style=\"text-align: right;\">\n",
       "      <th></th>\n",
       "      <th>traded_at</th>\n",
       "      <th>side</th>\n",
       "      <th>price</th>\n",
       "      <th>traded_volume</th>\n",
       "      <th>volume_left</th>\n",
       "      <th>delta_execsend</th>\n",
       "    </tr>\n",
       "  </thead>\n",
       "  <tbody>\n",
       "    <tr>\n",
       "      <th>0</th>\n",
       "      <td>eLog: order exec at 1622505601222248272 with i...</td>\n",
       "      <td>side 1</td>\n",
       "      <td>price 1108.6</td>\n",
       "      <td>traded volume 1</td>\n",
       "      <td>volume left on level 10</td>\n",
       "      <td>delta_execsend 30451968\\n</td>\n",
       "    </tr>\n",
       "    <tr>\n",
       "      <th>1</th>\n",
       "      <td>eLog: order exec at 1622505601424113404 with i...</td>\n",
       "      <td>side -1</td>\n",
       "      <td>price 1108.4</td>\n",
       "      <td>traded volume 1</td>\n",
       "      <td>volume left on level 22</td>\n",
       "      <td>delta_execsend 17118720\\n</td>\n",
       "    </tr>\n",
       "    <tr>\n",
       "      <th>2</th>\n",
       "      <td>eLog: order exec at 1622505601604667896 with i...</td>\n",
       "      <td>side 1</td>\n",
       "      <td>price 1108.3</td>\n",
       "      <td>traded volume 1</td>\n",
       "      <td>volume left on level 2</td>\n",
       "      <td>delta_execsend 153866496\\n</td>\n",
       "    </tr>\n",
       "    <tr>\n",
       "      <th>3</th>\n",
       "      <td>eLog: order exec at 1622505602982200992 with i...</td>\n",
       "      <td>side -1</td>\n",
       "      <td>price 1108.4</td>\n",
       "      <td>traded volume 1</td>\n",
       "      <td>volume left on level 1</td>\n",
       "      <td>delta_execsend 153371136\\n</td>\n",
       "    </tr>\n",
       "    <tr>\n",
       "      <th>4</th>\n",
       "      <td>eLog: order exec at 1622505603600579508 with i...</td>\n",
       "      <td>side 1</td>\n",
       "      <td>price 1108.3</td>\n",
       "      <td>traded volume 1</td>\n",
       "      <td>volume left on level 6</td>\n",
       "      <td>delta_execsend 618378496\\n</td>\n",
       "    </tr>\n",
       "  </tbody>\n",
       "</table>\n",
       "</div>"
      ],
      "text/plain": [
       "                                           traded_at     side         price  \\\n",
       "0  eLog: order exec at 1622505601222248272 with i...   side 1  price 1108.6   \n",
       "1  eLog: order exec at 1622505601424113404 with i...  side -1  price 1108.4   \n",
       "2  eLog: order exec at 1622505601604667896 with i...   side 1  price 1108.3   \n",
       "3  eLog: order exec at 1622505602982200992 with i...  side -1  price 1108.4   \n",
       "4  eLog: order exec at 1622505603600579508 with i...   side 1  price 1108.3   \n",
       "\n",
       "     traded_volume              volume_left              delta_execsend  \n",
       "0  traded volume 1  volume left on level 10   delta_execsend 30451968\\n  \n",
       "1  traded volume 1  volume left on level 22   delta_execsend 17118720\\n  \n",
       "2  traded volume 1   volume left on level 2  delta_execsend 153866496\\n  \n",
       "3  traded volume 1   volume left on level 1  delta_execsend 153371136\\n  \n",
       "4  traded volume 1   volume left on level 6  delta_execsend 618378496\\n  "
      ]
     },
     "execution_count": 6,
     "metadata": {},
     "output_type": "execute_result"
    }
   ],
   "source": [
    "data_exec.head()"
   ]
  },
  {
   "cell_type": "code",
   "execution_count": 7,
   "id": "09c824fc",
   "metadata": {},
   "outputs": [],
   "source": [
    "# getting rid of unneeded words such as side, price, etc.\n",
    "\n",
    "data_exec['traded_at'] = data_exec['traded_at'].map(lambda x: str(x)[20:39])\n",
    "data_exec['side'] = data_exec['side'].map(lambda x: str(x)[4:])\n",
    "data_exec['price'] = data_exec['price'].map(lambda x: str(x)[6:])\n",
    "data_exec['traded_volume'] = data_exec['traded_volume'].map(lambda x: str(x)[14:])\n",
    "data_exec['volume_left'] = data_exec['volume_left'].map(lambda x: str(x)[21:])\n",
    "data_exec['delta_execsend'] = data_exec['delta_execsend'].map(lambda x: str(x)[15:-2])"
   ]
  },
  {
   "cell_type": "code",
   "execution_count": 8,
   "id": "6171ab7c",
   "metadata": {},
   "outputs": [],
   "source": [
    "# modifying last value cause it didn't have '\\n' but still lost 2 digits.\n",
    "\n",
    "data_exec['delta_execsend'][8681] = '14734981632'"
   ]
  },
  {
   "cell_type": "code",
   "execution_count": 9,
   "id": "e87f60f7",
   "metadata": {},
   "outputs": [],
   "source": [
    "# changing the types\n",
    "\n",
    "data_exec['traded_at'] = (data_exec['traded_at'].astype('int64') / 1_000_000_000).astype('int64')\n",
    "data_exec['side'] = data_exec['side'].astype('int64')\n",
    "data_exec['price'] = data_exec['price'].astype(float)\n",
    "data_exec['traded_volume'] = data_exec['traded_volume'].astype('int64')\n",
    "data_exec['volume_left'] = data_exec['volume_left'].astype('int64')\n",
    "data_exec['delta_execsend'] = data_exec['delta_execsend'].astype('int64')"
   ]
  },
  {
   "cell_type": "code",
   "execution_count": 10,
   "id": "1abb2ed4",
   "metadata": {},
   "outputs": [
    {
     "data": {
      "text/html": [
       "<div>\n",
       "<style scoped>\n",
       "    .dataframe tbody tr th:only-of-type {\n",
       "        vertical-align: middle;\n",
       "    }\n",
       "\n",
       "    .dataframe tbody tr th {\n",
       "        vertical-align: top;\n",
       "    }\n",
       "\n",
       "    .dataframe thead th {\n",
       "        text-align: right;\n",
       "    }\n",
       "</style>\n",
       "<table border=\"1\" class=\"dataframe\">\n",
       "  <thead>\n",
       "    <tr style=\"text-align: right;\">\n",
       "      <th></th>\n",
       "      <th>traded_at</th>\n",
       "      <th>side</th>\n",
       "      <th>price</th>\n",
       "      <th>traded_volume</th>\n",
       "      <th>volume_left</th>\n",
       "      <th>delta_execsend</th>\n",
       "    </tr>\n",
       "  </thead>\n",
       "  <tbody>\n",
       "    <tr>\n",
       "      <th>5776</th>\n",
       "      <td>1626316477</td>\n",
       "      <td>1</td>\n",
       "      <td>1146.7</td>\n",
       "      <td>1</td>\n",
       "      <td>7</td>\n",
       "      <td>1445915878</td>\n",
       "    </tr>\n",
       "    <tr>\n",
       "      <th>2452</th>\n",
       "      <td>1624406520</td>\n",
       "      <td>-1</td>\n",
       "      <td>1133.0</td>\n",
       "      <td>1</td>\n",
       "      <td>1</td>\n",
       "      <td>611869260</td>\n",
       "    </tr>\n",
       "    <tr>\n",
       "      <th>7549</th>\n",
       "      <td>1627350215</td>\n",
       "      <td>1</td>\n",
       "      <td>1150.1</td>\n",
       "      <td>1</td>\n",
       "      <td>577</td>\n",
       "      <td>200345</td>\n",
       "    </tr>\n",
       "    <tr>\n",
       "      <th>83</th>\n",
       "      <td>1622509119</td>\n",
       "      <td>-1</td>\n",
       "      <td>1108.3</td>\n",
       "      <td>1</td>\n",
       "      <td>167</td>\n",
       "      <td>8127278899</td>\n",
       "    </tr>\n",
       "    <tr>\n",
       "      <th>3166</th>\n",
       "      <td>1624844466</td>\n",
       "      <td>1</td>\n",
       "      <td>1129.8</td>\n",
       "      <td>1</td>\n",
       "      <td>630</td>\n",
       "      <td>6362885888</td>\n",
       "    </tr>\n",
       "  </tbody>\n",
       "</table>\n",
       "</div>"
      ],
      "text/plain": [
       "       traded_at  side   price  traded_volume  volume_left  delta_execsend\n",
       "5776  1626316477     1  1146.7              1            7      1445915878\n",
       "2452  1624406520    -1  1133.0              1            1       611869260\n",
       "7549  1627350215     1  1150.1              1          577          200345\n",
       "83    1622509119    -1  1108.3              1          167      8127278899\n",
       "3166  1624844466     1  1129.8              1          630      6362885888"
      ]
     },
     "execution_count": 10,
     "metadata": {},
     "output_type": "execute_result"
    }
   ],
   "source": [
    "# looks cool now!\n",
    "\n",
    "data_exec.sample(5)"
   ]
  },
  {
   "cell_type": "markdown",
   "id": "60977525",
   "metadata": {},
   "source": [
    "### 1.2. Preprocessing market_logs."
   ]
  },
  {
   "cell_type": "code",
   "execution_count": 11,
   "id": "d5b49723",
   "metadata": {
    "scrolled": true
   },
   "outputs": [],
   "source": [
    "# starting creating a dataframe!\n",
    "\n",
    "data_market = pd.DataFrame([element.split(' ') for element in market_logs])\n",
    "data_market = data_market.drop(columns = [0,1,2,3,5,6,8,10,11,13,14,15])\n",
    "data_market.columns = ['traded_at', 'side', 'price', 'traded_volume', 'dom']"
   ]
  },
  {
   "cell_type": "code",
   "execution_count": 12,
   "id": "c59d8684",
   "metadata": {},
   "outputs": [
    {
     "data": {
      "text/html": [
       "<div>\n",
       "<style scoped>\n",
       "    .dataframe tbody tr th:only-of-type {\n",
       "        vertical-align: middle;\n",
       "    }\n",
       "\n",
       "    .dataframe tbody tr th {\n",
       "        vertical-align: top;\n",
       "    }\n",
       "\n",
       "    .dataframe thead th {\n",
       "        text-align: right;\n",
       "    }\n",
       "</style>\n",
       "<table border=\"1\" class=\"dataframe\">\n",
       "  <thead>\n",
       "    <tr style=\"text-align: right;\">\n",
       "      <th></th>\n",
       "      <th>traded_at</th>\n",
       "      <th>side</th>\n",
       "      <th>price</th>\n",
       "      <th>traded_volume</th>\n",
       "      <th>dom</th>\n",
       "    </tr>\n",
       "  </thead>\n",
       "  <tbody>\n",
       "    <tr>\n",
       "      <th>0</th>\n",
       "      <td>1622505601191796236</td>\n",
       "      <td>-1,</td>\n",
       "      <td>1108.9,</td>\n",
       "      <td>36</td>\n",
       "      <td>6@1108.7x1108.8@104\\n</td>\n",
       "    </tr>\n",
       "    <tr>\n",
       "      <th>1</th>\n",
       "      <td>1622505601222248272</td>\n",
       "      <td>-1,</td>\n",
       "      <td>1108.7,</td>\n",
       "      <td>17</td>\n",
       "      <td>10@1108.5x1108.6@23\\n</td>\n",
       "    </tr>\n",
       "    <tr>\n",
       "      <th>2</th>\n",
       "      <td>1622505601364445668</td>\n",
       "      <td>-1,</td>\n",
       "      <td>1108.5,</td>\n",
       "      <td>20</td>\n",
       "      <td>16@1108.3x1108.6@23\\n</td>\n",
       "    </tr>\n",
       "    <tr>\n",
       "      <th>3</th>\n",
       "      <td>1622505601405325968</td>\n",
       "      <td>1,</td>\n",
       "      <td>1108.6,</td>\n",
       "      <td>1</td>\n",
       "      <td>16@1108.3x1108.6@22\\n</td>\n",
       "    </tr>\n",
       "    <tr>\n",
       "      <th>4</th>\n",
       "      <td>1622505601406994624</td>\n",
       "      <td>-1,</td>\n",
       "      <td>1108.3,</td>\n",
       "      <td>16</td>\n",
       "      <td>18@1108.2x1108.3@12\\n</td>\n",
       "    </tr>\n",
       "  </tbody>\n",
       "</table>\n",
       "</div>"
      ],
      "text/plain": [
       "             traded_at side    price traded_volume                    dom\n",
       "0  1622505601191796236  -1,  1108.9,            36  6@1108.7x1108.8@104\\n\n",
       "1  1622505601222248272  -1,  1108.7,            17  10@1108.5x1108.6@23\\n\n",
       "2  1622505601364445668  -1,  1108.5,            20  16@1108.3x1108.6@23\\n\n",
       "3  1622505601405325968   1,  1108.6,             1  16@1108.3x1108.6@22\\n\n",
       "4  1622505601406994624  -1,  1108.3,            16  18@1108.2x1108.3@12\\n"
      ]
     },
     "execution_count": 12,
     "metadata": {},
     "output_type": "execute_result"
    }
   ],
   "source": [
    "data_market.head()"
   ]
  },
  {
   "cell_type": "code",
   "execution_count": 13,
   "id": "b3d00c03",
   "metadata": {},
   "outputs": [],
   "source": [
    "# getting rid of commas at the end\n",
    "\n",
    "data_market['side'] = data_market['side'].map(lambda x: str(x)[:-1])\n",
    "data_market['price'] = data_market['price'].map(lambda x: str(x)[:-1])\n",
    "data_market['dom'] = data_market['dom'].map(lambda x: str(x)[:-2])"
   ]
  },
  {
   "cell_type": "markdown",
   "id": "5cd4cfa7",
   "metadata": {},
   "source": [
    "Now I want to split **`dom`** column into 4 different variables."
   ]
  },
  {
   "cell_type": "code",
   "execution_count": 14,
   "id": "90cea4b5",
   "metadata": {},
   "outputs": [],
   "source": [
    "# to get volume_bid\n",
    "def volume_bid(row):\n",
    "        return re.findall(r'^\\w+', row)[0]\n",
    "\n",
    "# to get volume_ask\n",
    "def volume_ask(row):\n",
    "    try:\n",
    "        return re.findall(r'\\w+$', row)[0]\n",
    "    except:\n",
    "        return 0\n",
    "    \n",
    "# to get bid_price\n",
    "def bid_price(row):\n",
    "    return re.split(r'x', row)[0].split('@')[1]\n",
    "\n",
    "# to get ask_price\n",
    "def ask_price(row):\n",
    "    return re.split(r'x', row)[1].split('@')[0]"
   ]
  },
  {
   "cell_type": "code",
   "execution_count": 15,
   "id": "d8c96830",
   "metadata": {},
   "outputs": [],
   "source": [
    "# applying functions and creating new columns!\n",
    "\n",
    "data_market['volume_bid'] = data_market['dom'].apply(volume_bid)\n",
    "data_market['volume_ask'] = data_market['dom'].apply(volume_ask)\n",
    "data_market['bid_price'] = data_market['dom'].apply(bid_price)\n",
    "data_market['ask_price'] = data_market['dom'].apply(ask_price)"
   ]
  },
  {
   "cell_type": "code",
   "execution_count": 16,
   "id": "50c6e867",
   "metadata": {},
   "outputs": [],
   "source": [
    "# changing data types to proper ones\n",
    "\n",
    "data_market['traded_at'] = data_market['traded_at'].astype('int64')\n",
    "data_market['side'] = data_market['side'].astype('int64')\n",
    "data_market['price'] = data_market['price'].astype(float)\n",
    "data_market['traded_volume'] = data_market['traded_volume'].astype('int64')\n",
    "\n",
    "data_market['volume_bid'] = data_market['volume_bid'].astype('int64')\n",
    "data_market['volume_ask'] = data_market['volume_ask'].astype('int64')\n",
    "data_market['bid_price'] = data_market['bid_price'].astype(float)\n",
    "data_market['ask_price'] = data_market['ask_price'].astype(float)"
   ]
  },
  {
   "cell_type": "markdown",
   "id": "79c15a05",
   "metadata": {},
   "source": [
    "*i want to get unix-like time to normal time, let's do it.*"
   ]
  },
  {
   "cell_type": "code",
   "execution_count": 17,
   "id": "c6551527",
   "metadata": {},
   "outputs": [
    {
     "data": {
      "text/html": [
       "<div>\n",
       "<style scoped>\n",
       "    .dataframe tbody tr th:only-of-type {\n",
       "        vertical-align: middle;\n",
       "    }\n",
       "\n",
       "    .dataframe tbody tr th {\n",
       "        vertical-align: top;\n",
       "    }\n",
       "\n",
       "    .dataframe thead th {\n",
       "        text-align: right;\n",
       "    }\n",
       "</style>\n",
       "<table border=\"1\" class=\"dataframe\">\n",
       "  <thead>\n",
       "    <tr style=\"text-align: right;\">\n",
       "      <th></th>\n",
       "      <th>traded_at</th>\n",
       "      <th>side</th>\n",
       "      <th>price</th>\n",
       "      <th>traded_volume</th>\n",
       "      <th>dom</th>\n",
       "      <th>volume_bid</th>\n",
       "      <th>volume_ask</th>\n",
       "      <th>bid_price</th>\n",
       "      <th>ask_price</th>\n",
       "    </tr>\n",
       "  </thead>\n",
       "  <tbody>\n",
       "    <tr>\n",
       "      <th>304162</th>\n",
       "      <td>1626746623436286476</td>\n",
       "      <td>-1</td>\n",
       "      <td>1149.5</td>\n",
       "      <td>5</td>\n",
       "      <td>203@1149.5x1149.6@13</td>\n",
       "      <td>203</td>\n",
       "      <td>13</td>\n",
       "      <td>1149.5</td>\n",
       "      <td>1149.6</td>\n",
       "    </tr>\n",
       "  </tbody>\n",
       "</table>\n",
       "</div>"
      ],
      "text/plain": [
       "                  traded_at  side   price  traded_volume  \\\n",
       "304162  1626746623436286476    -1  1149.5              5   \n",
       "\n",
       "                         dom  volume_bid  volume_ask  bid_price  ask_price  \n",
       "304162  203@1149.5x1149.6@13         203          13     1149.5     1149.6  "
      ]
     },
     "execution_count": 17,
     "metadata": {},
     "output_type": "execute_result"
    }
   ],
   "source": [
    "data_market.sample()"
   ]
  },
  {
   "cell_type": "markdown",
   "id": "ebfcf6a2",
   "metadata": {},
   "source": [
    "*i assume that `traded_at` column is in nanoseconds, so I want to convert it to normal seconds.*"
   ]
  },
  {
   "cell_type": "code",
   "execution_count": 18,
   "id": "272bbe95",
   "metadata": {},
   "outputs": [],
   "source": [
    "data_market['traded_at'] = (data_market['traded_at'] / 1_000_000_000).astype(int)"
   ]
  },
  {
   "cell_type": "code",
   "execution_count": 19,
   "id": "496174e4",
   "metadata": {},
   "outputs": [
    {
     "data": {
      "text/html": [
       "<div>\n",
       "<style scoped>\n",
       "    .dataframe tbody tr th:only-of-type {\n",
       "        vertical-align: middle;\n",
       "    }\n",
       "\n",
       "    .dataframe tbody tr th {\n",
       "        vertical-align: top;\n",
       "    }\n",
       "\n",
       "    .dataframe thead th {\n",
       "        text-align: right;\n",
       "    }\n",
       "</style>\n",
       "<table border=\"1\" class=\"dataframe\">\n",
       "  <thead>\n",
       "    <tr style=\"text-align: right;\">\n",
       "      <th></th>\n",
       "      <th>traded_at</th>\n",
       "      <th>side</th>\n",
       "      <th>price</th>\n",
       "      <th>traded_volume</th>\n",
       "      <th>dom</th>\n",
       "      <th>volume_bid</th>\n",
       "      <th>volume_ask</th>\n",
       "      <th>bid_price</th>\n",
       "      <th>ask_price</th>\n",
       "    </tr>\n",
       "  </thead>\n",
       "  <tbody>\n",
       "    <tr>\n",
       "      <th>0</th>\n",
       "      <td>1622505601</td>\n",
       "      <td>-1</td>\n",
       "      <td>1108.9</td>\n",
       "      <td>36</td>\n",
       "      <td>6@1108.7x1108.8@10</td>\n",
       "      <td>6</td>\n",
       "      <td>10</td>\n",
       "      <td>1108.7</td>\n",
       "      <td>1108.8</td>\n",
       "    </tr>\n",
       "    <tr>\n",
       "      <th>1</th>\n",
       "      <td>1622505601</td>\n",
       "      <td>-1</td>\n",
       "      <td>1108.7</td>\n",
       "      <td>17</td>\n",
       "      <td>10@1108.5x1108.6@2</td>\n",
       "      <td>10</td>\n",
       "      <td>2</td>\n",
       "      <td>1108.5</td>\n",
       "      <td>1108.6</td>\n",
       "    </tr>\n",
       "    <tr>\n",
       "      <th>2</th>\n",
       "      <td>1622505601</td>\n",
       "      <td>-1</td>\n",
       "      <td>1108.5</td>\n",
       "      <td>20</td>\n",
       "      <td>16@1108.3x1108.6@2</td>\n",
       "      <td>16</td>\n",
       "      <td>2</td>\n",
       "      <td>1108.3</td>\n",
       "      <td>1108.6</td>\n",
       "    </tr>\n",
       "    <tr>\n",
       "      <th>3</th>\n",
       "      <td>1622505601</td>\n",
       "      <td>1</td>\n",
       "      <td>1108.6</td>\n",
       "      <td>1</td>\n",
       "      <td>16@1108.3x1108.6@2</td>\n",
       "      <td>16</td>\n",
       "      <td>2</td>\n",
       "      <td>1108.3</td>\n",
       "      <td>1108.6</td>\n",
       "    </tr>\n",
       "    <tr>\n",
       "      <th>4</th>\n",
       "      <td>1622505601</td>\n",
       "      <td>-1</td>\n",
       "      <td>1108.3</td>\n",
       "      <td>16</td>\n",
       "      <td>18@1108.2x1108.3@1</td>\n",
       "      <td>18</td>\n",
       "      <td>1</td>\n",
       "      <td>1108.2</td>\n",
       "      <td>1108.3</td>\n",
       "    </tr>\n",
       "  </tbody>\n",
       "</table>\n",
       "</div>"
      ],
      "text/plain": [
       "    traded_at  side   price  traded_volume                 dom  volume_bid  \\\n",
       "0  1622505601    -1  1108.9             36  6@1108.7x1108.8@10           6   \n",
       "1  1622505601    -1  1108.7             17  10@1108.5x1108.6@2          10   \n",
       "2  1622505601    -1  1108.5             20  16@1108.3x1108.6@2          16   \n",
       "3  1622505601     1  1108.6              1  16@1108.3x1108.6@2          16   \n",
       "4  1622505601    -1  1108.3             16  18@1108.2x1108.3@1          18   \n",
       "\n",
       "   volume_ask  bid_price  ask_price  \n",
       "0          10     1108.7     1108.8  \n",
       "1           2     1108.5     1108.6  \n",
       "2           2     1108.3     1108.6  \n",
       "3           2     1108.3     1108.6  \n",
       "4           1     1108.2     1108.3  "
      ]
     },
     "execution_count": 19,
     "metadata": {},
     "output_type": "execute_result"
    }
   ],
   "source": [
    "# looks cool now!\n",
    "\n",
    "data_market.head(5)"
   ]
  },
  {
   "cell_type": "markdown",
   "id": "2f88ba78",
   "metadata": {},
   "source": [
    "### 2. Calculations"
   ]
  },
  {
   "cell_type": "markdown",
   "id": "b461ade4",
   "metadata": {},
   "source": [
    "*1. We need to calculate mid_price between ask_price and bid_price, let's do it!*"
   ]
  },
  {
   "cell_type": "code",
   "execution_count": 20,
   "id": "2ea08253",
   "metadata": {},
   "outputs": [],
   "source": [
    "data_market['mid_price'] = (data_market['ask_price'] + data_market['bid_price']) / 2"
   ]
  },
  {
   "cell_type": "markdown",
   "id": "53db170e",
   "metadata": {},
   "source": [
    "*2. We need to calculate dmid5 which is calculated by the following formula:*\n",
    "\n",
    "***dmid5*** = (mid_price in 5 seconds **-** price of data_exec) * side"
   ]
  },
  {
   "cell_type": "markdown",
   "id": "67f4f341",
   "metadata": {},
   "source": [
    "*i'll create 2 dataframes to get only values i want to work with.*"
   ]
  },
  {
   "cell_type": "code",
   "execution_count": 21,
   "id": "e6e2be7f",
   "metadata": {},
   "outputs": [],
   "source": [
    "final_market = data_market.drop(columns = ['price', 'traded_volume', 'side',\n",
    "                                           'dom', 'volume_bid', 'volume_ask',\n",
    "                                           'bid_price', 'ask_price'])"
   ]
  },
  {
   "cell_type": "code",
   "execution_count": 22,
   "id": "ec546401",
   "metadata": {},
   "outputs": [],
   "source": [
    "final_exec = data_exec.drop(columns = ['traded_volume', 'volume_left'])"
   ]
  },
  {
   "cell_type": "markdown",
   "id": "90cdec03",
   "metadata": {},
   "source": [
    "*let's create a target column to merge correctly.*"
   ]
  },
  {
   "cell_type": "code",
   "execution_count": 23,
   "id": "8e560b21",
   "metadata": {},
   "outputs": [],
   "source": [
    "# +5 cause we wanna get mid_price in 5 seconds\n",
    "\n",
    "final_exec['traded_at'] = final_exec['traded_at'] + 5"
   ]
  },
  {
   "cell_type": "code",
   "execution_count": 24,
   "id": "61f54984",
   "metadata": {},
   "outputs": [
    {
     "data": {
      "text/html": [
       "<div>\n",
       "<style scoped>\n",
       "    .dataframe tbody tr th:only-of-type {\n",
       "        vertical-align: middle;\n",
       "    }\n",
       "\n",
       "    .dataframe tbody tr th {\n",
       "        vertical-align: top;\n",
       "    }\n",
       "\n",
       "    .dataframe thead th {\n",
       "        text-align: right;\n",
       "    }\n",
       "</style>\n",
       "<table border=\"1\" class=\"dataframe\">\n",
       "  <thead>\n",
       "    <tr style=\"text-align: right;\">\n",
       "      <th></th>\n",
       "      <th>traded_at</th>\n",
       "      <th>mid_price</th>\n",
       "    </tr>\n",
       "  </thead>\n",
       "  <tbody>\n",
       "    <tr>\n",
       "      <th>0</th>\n",
       "      <td>1622505601</td>\n",
       "      <td>1108.75</td>\n",
       "    </tr>\n",
       "    <tr>\n",
       "      <th>1</th>\n",
       "      <td>1622505601</td>\n",
       "      <td>1108.55</td>\n",
       "    </tr>\n",
       "    <tr>\n",
       "      <th>2</th>\n",
       "      <td>1622505601</td>\n",
       "      <td>1108.45</td>\n",
       "    </tr>\n",
       "    <tr>\n",
       "      <th>3</th>\n",
       "      <td>1622505601</td>\n",
       "      <td>1108.45</td>\n",
       "    </tr>\n",
       "    <tr>\n",
       "      <th>4</th>\n",
       "      <td>1622505601</td>\n",
       "      <td>1108.25</td>\n",
       "    </tr>\n",
       "  </tbody>\n",
       "</table>\n",
       "</div>"
      ],
      "text/plain": [
       "    traded_at  mid_price\n",
       "0  1622505601    1108.75\n",
       "1  1622505601    1108.55\n",
       "2  1622505601    1108.45\n",
       "3  1622505601    1108.45\n",
       "4  1622505601    1108.25"
      ]
     },
     "metadata": {},
     "output_type": "display_data"
    },
    {
     "data": {
      "text/html": [
       "<div>\n",
       "<style scoped>\n",
       "    .dataframe tbody tr th:only-of-type {\n",
       "        vertical-align: middle;\n",
       "    }\n",
       "\n",
       "    .dataframe tbody tr th {\n",
       "        vertical-align: top;\n",
       "    }\n",
       "\n",
       "    .dataframe thead th {\n",
       "        text-align: right;\n",
       "    }\n",
       "</style>\n",
       "<table border=\"1\" class=\"dataframe\">\n",
       "  <thead>\n",
       "    <tr style=\"text-align: right;\">\n",
       "      <th></th>\n",
       "      <th>traded_at</th>\n",
       "      <th>side</th>\n",
       "      <th>price</th>\n",
       "      <th>delta_execsend</th>\n",
       "    </tr>\n",
       "  </thead>\n",
       "  <tbody>\n",
       "    <tr>\n",
       "      <th>0</th>\n",
       "      <td>1622505606</td>\n",
       "      <td>1</td>\n",
       "      <td>1108.6</td>\n",
       "      <td>3045196</td>\n",
       "    </tr>\n",
       "    <tr>\n",
       "      <th>1</th>\n",
       "      <td>1622505606</td>\n",
       "      <td>-1</td>\n",
       "      <td>1108.4</td>\n",
       "      <td>1711872</td>\n",
       "    </tr>\n",
       "    <tr>\n",
       "      <th>2</th>\n",
       "      <td>1622505606</td>\n",
       "      <td>1</td>\n",
       "      <td>1108.3</td>\n",
       "      <td>15386649</td>\n",
       "    </tr>\n",
       "    <tr>\n",
       "      <th>3</th>\n",
       "      <td>1622505607</td>\n",
       "      <td>-1</td>\n",
       "      <td>1108.4</td>\n",
       "      <td>15337113</td>\n",
       "    </tr>\n",
       "    <tr>\n",
       "      <th>4</th>\n",
       "      <td>1622505608</td>\n",
       "      <td>1</td>\n",
       "      <td>1108.3</td>\n",
       "      <td>61837849</td>\n",
       "    </tr>\n",
       "  </tbody>\n",
       "</table>\n",
       "</div>"
      ],
      "text/plain": [
       "    traded_at  side   price  delta_execsend\n",
       "0  1622505606     1  1108.6         3045196\n",
       "1  1622505606    -1  1108.4         1711872\n",
       "2  1622505606     1  1108.3        15386649\n",
       "3  1622505607    -1  1108.4        15337113\n",
       "4  1622505608     1  1108.3        61837849"
      ]
     },
     "metadata": {},
     "output_type": "display_data"
    }
   ],
   "source": [
    "display(final_market.head())\n",
    "display(final_exec.head())"
   ]
  },
  {
   "cell_type": "code",
   "execution_count": 25,
   "id": "9b822b74",
   "metadata": {},
   "outputs": [],
   "source": [
    "final_table = final_exec.merge(final_market, how = 'inner')"
   ]
  },
  {
   "cell_type": "code",
   "execution_count": 26,
   "id": "6d940c32",
   "metadata": {},
   "outputs": [
    {
     "data": {
      "text/html": [
       "<div>\n",
       "<style scoped>\n",
       "    .dataframe tbody tr th:only-of-type {\n",
       "        vertical-align: middle;\n",
       "    }\n",
       "\n",
       "    .dataframe tbody tr th {\n",
       "        vertical-align: top;\n",
       "    }\n",
       "\n",
       "    .dataframe thead th {\n",
       "        text-align: right;\n",
       "    }\n",
       "</style>\n",
       "<table border=\"1\" class=\"dataframe\">\n",
       "  <thead>\n",
       "    <tr style=\"text-align: right;\">\n",
       "      <th></th>\n",
       "      <th>traded_at</th>\n",
       "      <th>side</th>\n",
       "      <th>price</th>\n",
       "      <th>delta_execsend</th>\n",
       "      <th>mid_price</th>\n",
       "    </tr>\n",
       "  </thead>\n",
       "  <tbody>\n",
       "    <tr>\n",
       "      <th>0</th>\n",
       "      <td>1622505606</td>\n",
       "      <td>1</td>\n",
       "      <td>1108.6</td>\n",
       "      <td>3045196</td>\n",
       "      <td>1108.65</td>\n",
       "    </tr>\n",
       "    <tr>\n",
       "      <th>1</th>\n",
       "      <td>1622505606</td>\n",
       "      <td>1</td>\n",
       "      <td>1108.6</td>\n",
       "      <td>3045196</td>\n",
       "      <td>1108.65</td>\n",
       "    </tr>\n",
       "    <tr>\n",
       "      <th>2</th>\n",
       "      <td>1622505606</td>\n",
       "      <td>1</td>\n",
       "      <td>1108.6</td>\n",
       "      <td>3045196</td>\n",
       "      <td>1108.45</td>\n",
       "    </tr>\n",
       "    <tr>\n",
       "      <th>3</th>\n",
       "      <td>1622505606</td>\n",
       "      <td>1</td>\n",
       "      <td>1108.6</td>\n",
       "      <td>3045196</td>\n",
       "      <td>1108.45</td>\n",
       "    </tr>\n",
       "    <tr>\n",
       "      <th>4</th>\n",
       "      <td>1622505606</td>\n",
       "      <td>1</td>\n",
       "      <td>1108.6</td>\n",
       "      <td>3045196</td>\n",
       "      <td>1108.50</td>\n",
       "    </tr>\n",
       "    <tr>\n",
       "      <th>...</th>\n",
       "      <td>...</td>\n",
       "      <td>...</td>\n",
       "      <td>...</td>\n",
       "      <td>...</td>\n",
       "      <td>...</td>\n",
       "    </tr>\n",
       "    <tr>\n",
       "      <th>5827</th>\n",
       "      <td>1627625779</td>\n",
       "      <td>1</td>\n",
       "      <td>1149.2</td>\n",
       "      <td>1918210918</td>\n",
       "      <td>1149.15</td>\n",
       "    </tr>\n",
       "    <tr>\n",
       "      <th>5828</th>\n",
       "      <td>1627626048</td>\n",
       "      <td>-1</td>\n",
       "      <td>1149.5</td>\n",
       "      <td>2515204659</td>\n",
       "      <td>1149.60</td>\n",
       "    </tr>\n",
       "    <tr>\n",
       "      <th>5829</th>\n",
       "      <td>1627626478</td>\n",
       "      <td>-1</td>\n",
       "      <td>1150.4</td>\n",
       "      <td>1213418470</td>\n",
       "      <td>1150.45</td>\n",
       "    </tr>\n",
       "    <tr>\n",
       "      <th>5830</th>\n",
       "      <td>1627626478</td>\n",
       "      <td>-1</td>\n",
       "      <td>1150.4</td>\n",
       "      <td>1213418470</td>\n",
       "      <td>1150.45</td>\n",
       "    </tr>\n",
       "    <tr>\n",
       "      <th>5831</th>\n",
       "      <td>1627626478</td>\n",
       "      <td>-1</td>\n",
       "      <td>1150.4</td>\n",
       "      <td>1213418470</td>\n",
       "      <td>1150.45</td>\n",
       "    </tr>\n",
       "  </tbody>\n",
       "</table>\n",
       "<p>5832 rows × 5 columns</p>\n",
       "</div>"
      ],
      "text/plain": [
       "       traded_at  side   price  delta_execsend  mid_price\n",
       "0     1622505606     1  1108.6         3045196    1108.65\n",
       "1     1622505606     1  1108.6         3045196    1108.65\n",
       "2     1622505606     1  1108.6         3045196    1108.45\n",
       "3     1622505606     1  1108.6         3045196    1108.45\n",
       "4     1622505606     1  1108.6         3045196    1108.50\n",
       "...          ...   ...     ...             ...        ...\n",
       "5827  1627625779     1  1149.2      1918210918    1149.15\n",
       "5828  1627626048    -1  1149.5      2515204659    1149.60\n",
       "5829  1627626478    -1  1150.4      1213418470    1150.45\n",
       "5830  1627626478    -1  1150.4      1213418470    1150.45\n",
       "5831  1627626478    -1  1150.4      1213418470    1150.45\n",
       "\n",
       "[5832 rows x 5 columns]"
      ]
     },
     "execution_count": 26,
     "metadata": {},
     "output_type": "execute_result"
    }
   ],
   "source": [
    "final_table"
   ]
  },
  {
   "cell_type": "code",
   "execution_count": 27,
   "id": "1034828f",
   "metadata": {},
   "outputs": [],
   "source": [
    "final_table['dmid5'] = (final_table['mid_price'] - final_table['price']) * final_table['side']\n",
    "final_table['delta_execsend'] = final_table['delta_execsend'] / 1_000_000_000"
   ]
  },
  {
   "cell_type": "code",
   "execution_count": 28,
   "id": "b074e92d",
   "metadata": {},
   "outputs": [
    {
     "name": "stdout",
     "output_type": "stream",
     "text": [
      "Correlation between dmid5 and delta_execsend is:\n",
      "0.011734153655517322\n"
     ]
    }
   ],
   "source": [
    "print('Correlation between dmid5 and delta_execsend is:')\n",
    "print(final_table['dmid5'].corr(final_table['delta_execsend']))"
   ]
  },
  {
   "cell_type": "markdown",
   "id": "f1d2834e",
   "metadata": {},
   "source": [
    "#### The correlation between dmid5 and delta_execsend is almost 0, to be accurate ~0.01."
   ]
  },
  {
   "cell_type": "markdown",
   "id": "b9e8879d",
   "metadata": {},
   "source": [
    "(hopefully I did everything right)"
   ]
  }
 ],
 "metadata": {
  "kernelspec": {
   "display_name": "Python 3 (ipykernel)",
   "language": "python",
   "name": "python3"
  },
  "language_info": {
   "codemirror_mode": {
    "name": "ipython",
    "version": 3
   },
   "file_extension": ".py",
   "mimetype": "text/x-python",
   "name": "python",
   "nbconvert_exporter": "python",
   "pygments_lexer": "ipython3",
   "version": "3.9.13"
  }
 },
 "nbformat": 4,
 "nbformat_minor": 5
}
